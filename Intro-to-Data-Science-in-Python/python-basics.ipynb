{
 "cells": [
  {
   "cell_type": "raw",
   "metadata": {},
   "source": [
    "---\n",
    "title: \"Introduction to Data Science in Python\"\n",
    "author: Daphne Virlar-Knight\n",
    "date: \"July 10, 2022\"\n",
    "format: \n",
    "    html:\n",
    "        code-copy: true\n",
    "highlight-style: atom-one\n",
    "execute:\n",
    "    eval: false\n",
    "---"
   ]
  },
  {
   "cell_type": "markdown",
   "metadata": {},
   "source": [
    "<br>\n",
    "<br> \n",
    "\n",
    "# 1. Getting Started in Python"
   ]
  },
  {
   "cell_type": "markdown",
   "metadata": {},
   "source": [
    "## Module Notes\n",
    "- `numpy`: aliased as `np`, and is used for performing mathematical operations on lists of data.\n",
    "- `statsmodels`: aliased as `sm`, and is used in ML.\n",
    "- `seaborn`: aliased as `sns`, and is a visualization library."
   ]
  },
  {
   "cell_type": "markdown",
   "metadata": {},
   "source": [
    "## Useful Functions\n",
    "- `pd.read_csv()` reads in a csv file (from pandas library/module).\n",
    "- `plt.plot()` turns data into a line plot. The `plt` portion of that code is calling the `pyplot` function from the `matplotlib` module.\n",
    "- `plt.show()` displays plot in a new window.\n",
    "\n",
    "### Notes on Plotting\n",
    "When plotting a single graph, it's not necessary to assign that graph to an object name before specifically visualizing it. In R, you can just create a graph without assigning it to an object name, and it pops up automatically. The equivalent of that in python would be to first create a graph (don't need to assign it to an object) using the `plt.plot()` function, and then you can call it immediately afterwards using `plt.show()`. It would look like this:"
   ]
  },
  {
   "cell_type": "code",
   "execution_count": null,
   "metadata": {},
   "outputs": [],
   "source": [
    "from matplotlib import pyplot as plt\n",
    "plt.plot(\"some_x_values\", \"some_y_values\")\n",
    "plt.show()"
   ]
  },
  {
   "cell_type": "markdown",
   "metadata": {},
   "source": [
    "Alternatively, the `matplotlib.pyplot` function could have been loaded in a more streamlined fashion like this:"
   ]
  },
  {
   "cell_type": "code",
   "execution_count": null,
   "metadata": {},
   "outputs": [],
   "source": [
    "import matplotlib.pyplot as plt"
   ]
  },
  {
   "cell_type": "markdown",
   "metadata": {},
   "source": [
    "### Variables\n",
    "Unlike the \"<-\" operator in R, python uses an equal sign to assign variables to objects."
   ]
  }
 ],
 "metadata": {
  "kernelspec": {
   "display_name": "Python 3.9.13 64-bit",
   "language": "python",
   "name": "python3"
  },
  "language_info": {
   "codemirror_mode": {
    "name": "ipython",
    "version": 3
   },
   "file_extension": ".py",
   "mimetype": "text/x-python",
   "name": "python",
   "nbconvert_exporter": "python",
   "pygments_lexer": "ipython3",
   "version": "3.9.13"
  },
  "orig_nbformat": 4,
  "vscode": {
   "interpreter": {
    "hash": "aee8b7b246df8f9039afb4144a1f6fd8d2ca17a180786b69acc140d282b71a49"
   }
  }
 },
 "nbformat": 4,
 "nbformat_minor": 2
}
